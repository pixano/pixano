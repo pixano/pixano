{
  "cells": [
    {
      "attachments": {},
      "cell_type": "markdown",
      "metadata": {},
      "source": [
        "# Create your custom types with Pixano [![Open in Colab](https://colab.research.google.com/assets/colab-badge.svg)](https://colab.research.google.com/github/pixano/pixano/blob/main/notebooks/types/create_custom_type.ipynb)\n",
        "\n",
        "This notebook will help you create custom data types for your datasets.\n",
        "\n",
        "This will allow you to store your data exactly the way you want with Pixano.\n",
        "\n",
        "## 1. Setting up\n",
        "\n",
        "### Install dependencies\n",
        "\n",
        "This notebook requires installing `pixano`.\n",
        "\n",
        "If you are running this notebook on your computer, we strongly recommend creating a virtual environment for using Pixano like so:\n",
        "\n",
        "```shell\n",
        "conda create -n pixano_env python=3.10\n",
        "conda activate pixano_env\n",
        "```\n",
        "\n",
        "```shell\n",
        "pip install pixano\n",
        "```\n",
        "\n",
        "If you are running this notebook in Google Colab, run the cell below to install `pixano`.\n"
      ]
    },
    {
      "cell_type": "code",
      "execution_count": null,
      "metadata": {},
      "outputs": [],
      "source": [
        "try:\n",
        "    import google.colab\n",
        "\n",
        "    ENV = \"colab\"\n",
        "    %pip install pixano\n",
        "except:\n",
        "    ENV = \"jupyter\""
      ]
    },
    {
      "cell_type": "markdown",
      "metadata": {},
      "source": [
        "### Load dependencies\n"
      ]
    },
    {
      "cell_type": "code",
      "execution_count": null,
      "metadata": {},
      "outputs": [],
      "source": [
        "import tempfile\n",
        "from typing import Optional\n",
        "from pathlib import Path\n",
        "\n",
        "import lance\n",
        "import lancedb\n",
        "import pyarrow as pa\n",
        "from pydantic import BaseModel\n",
        "\n",
        "from pixano.core import BBox, BBoxType, PixanoType, create_pyarrow_type"
      ]
    },
    {
      "attachments": {},
      "cell_type": "markdown",
      "metadata": {},
      "source": [
        "## 2. Creating a type\n",
        "\n",
        "- Use `pixano.core.PixanoType` and `pydantic.BaseModel` as parent classes\n",
        "- Define your attributes and methods\n",
        "- Override the `to_struct` method to define what to export inside your PyArrow format dataset files\n",
        "\n",
        "Note that PixanoType provides you with generic `from_dict` and `to_dict` methods based on the fields you define in `to_struct`.\n"
      ]
    },
    {
      "cell_type": "code",
      "execution_count": null,
      "metadata": {},
      "outputs": [],
      "source": [
        "class Camera(PixanoType, BaseModel):\n",
        "    \"\"\"Camera type\n",
        "\n",
        "    Attributes:\n",
        "        depth_scale (float): Depth scale\n",
        "        cam_k (list[float]): Camera matrix K\n",
        "        cam_r_w2c (list[float], optional): 3*3 orientation matrix\n",
        "        cam_t_w2c (list[float], optional): 3*1 translation matrix\n",
        "    \"\"\"\n",
        "\n",
        "    depth_scale: float\n",
        "    cam_k: list[float]\n",
        "    cam_r_w2c: Optional[list[float]]\n",
        "    cam_t_w2c: Optional[list[float]]\n",
        "\n",
        "    def __init__(\n",
        "        self,\n",
        "        depth_scale: float,\n",
        "        cam_k: list[float],\n",
        "        cam_r_w2c: list[float] = None,\n",
        "        cam_t_w2c: list[float] = None,\n",
        "    ):\n",
        "        \"\"\"Initialize Camera\n",
        "\n",
        "        Args:\n",
        "            depth_scale (float): Depth scale\n",
        "            cam_k (list[float]): Camera matrix K\n",
        "            cam_r_w2c (list[float], optional): 3*3 orientation matrix. Defaults to None.\n",
        "            cam_t_w2c (list[float], optional): 3*1 translation matrix. Defaults to None.\n",
        "        \"\"\"\n",
        "\n",
        "        # Define public attributes through Pydantic BaseModel\n",
        "        super().__init__(\n",
        "            depth_scale=depth_scale,\n",
        "            cam_k=cam_k,\n",
        "            cam_r_w2c=cam_r_w2c,\n",
        "            cam_t_w2c=cam_t_w2c,\n",
        "        )\n",
        "\n",
        "    @staticmethod\n",
        "    def to_struct() -> pa.StructType:\n",
        "        \"\"\"Return Camera type as PyArrow Struct\n",
        "\n",
        "        Returns:\n",
        "            pa.StructType: Custom type corresponding PyArrow Struct\n",
        "        \"\"\"\n",
        "\n",
        "        return pa.struct(\n",
        "            [\n",
        "                pa.field(\"depth_scale\", pa.float64()),\n",
        "                pa.field(\"cam_k\", pa.list_(pa.float64())),\n",
        "                pa.field(\"cam_r_w2c\", pa.list_(pa.float64())),\n",
        "                pa.field(\"cam_t_w2c\", pa.list_(pa.float64())),\n",
        "            ]\n",
        "        )"
      ]
    },
    {
      "cell_type": "markdown",
      "metadata": {},
      "source": [
        "Test your newly created type to make sure it works:\n"
      ]
    },
    {
      "cell_type": "code",
      "execution_count": null,
      "metadata": {},
      "outputs": [],
      "source": [
        "camera_example = Camera.from_dict(\n",
        "    {\n",
        "        \"cam_K\": [\n",
        "            1758.377685546875,\n",
        "            0.0,\n",
        "            360.0000000121072,\n",
        "            0.0,\n",
        "            1781.137258093513,\n",
        "            269.9999999622624,\n",
        "            0.0,\n",
        "            0.0,\n",
        "            1.0,\n",
        "        ],\n",
        "        \"cam_R_w2c\": [\n",
        "            -0.8058909773826599,\n",
        "            -0.5643280148506165,\n",
        "            -0.17909124493598938,\n",
        "            -0.5611616969108582,\n",
        "            0.8244928121566772,\n",
        "            -0.0728636085987091,\n",
        "            0.18877841532230377,\n",
        "            0.04177902266383171,\n",
        "            -0.9811305999755859,\n",
        "        ],\n",
        "        \"cam_t_w2c\": [\n",
        "            -10.521206855773926,\n",
        "            40.88941192626953,\n",
        "            1092.1990966796875,\n",
        "        ],\n",
        "        \"depth_scale\": 0.1,\n",
        "    }\n",
        ")"
      ]
    },
    {
      "cell_type": "code",
      "execution_count": null,
      "metadata": {},
      "outputs": [],
      "source": [
        "camera_example.to_dict()"
      ]
    },
    {
      "attachments": {},
      "cell_type": "markdown",
      "metadata": {},
      "source": [
        "The PyArrow type will be used to store your data inside the lance files Pixano uses.\n",
        "\n",
        "Thanks to the `to_struct` method you just defined, all you have to do is call `createPyArrowType` to create your type's corresponding PyArrow type.\n"
      ]
    },
    {
      "cell_type": "code",
      "execution_count": null,
      "metadata": {},
      "outputs": [],
      "source": [
        "CameraType = create_pyarrow_type(Camera.to_struct(), \"Camera\", Camera)"
      ]
    },
    {
      "attachments": {},
      "cell_type": "markdown",
      "metadata": {},
      "source": [
        "## 3. Using the type\n",
        "\n",
        "Here is a list of things you can do to use your types and make sure everything is setup properly.\n",
        "\n",
        "Define a PyArrow schema using your custom type alongside other PixanoTypes:\n"
      ]
    },
    {
      "cell_type": "code",
      "execution_count": null,
      "metadata": {},
      "outputs": [],
      "source": [
        "schema = pa.schema(\n",
        "    [\n",
        "        pa.field(\"id\", pa.string()),\n",
        "        pa.field(\"camera\", CameraType),\n",
        "        pa.field(\"bbox\", BBoxType),\n",
        "    ]\n",
        ")"
      ]
    },
    {
      "cell_type": "markdown",
      "metadata": {},
      "source": [
        "Create a few rows of data following this schema:"
      ]
    },
    {
      "cell_type": "code",
      "execution_count": null,
      "metadata": {},
      "outputs": [],
      "source": [
        "rows = [\n",
        "    {\n",
        "        \"id\": \"456\",\n",
        "        \"camera\": camera_example.to_dict(),\n",
        "        \"bbox\": BBox.from_xywh([1, 2, 3, 4]).to_dict(),\n",
        "    },\n",
        "    {\n",
        "        \"id\": \"683\",\n",
        "        \"camera\": camera_example.to_dict(),\n",
        "        \"bbox\": BBox.from_xywh([4, 3, 2, 1]).to_dict(),\n",
        "    },\n",
        "]"
      ]
    },
    {
      "cell_type": "markdown",
      "metadata": {},
      "source": [
        "Test saving the table as a lance file and reading it back into memory:\n"
      ]
    },
    {
      "cell_type": "code",
      "execution_count": null,
      "metadata": {},
      "outputs": [],
      "source": [
        "with tempfile.TemporaryDirectory() as temp_dir:\n",
        "    write_table = pa.Table.from_pylist(rows, schema=schema)\n",
        "\n",
        "    lance.write_dataset(write_table, uri=Path(temp_dir) / \"temp_table.lance\")\n",
        "    db = lancedb.connect(temp_dir)\n",
        "    lance_table = db.open_table(\"temp_table\")\n",
        "\n",
        "    read_table = lance_table.to_arrow()"
      ]
    },
    {
      "attachments": {},
      "cell_type": "markdown",
      "metadata": {},
      "source": [
        "Convert that table back to Python:\n"
      ]
    },
    {
      "cell_type": "code",
      "execution_count": null,
      "metadata": {},
      "outputs": [],
      "source": [
        "read_table.to_pylist()"
      ]
    },
    {
      "cell_type": "markdown",
      "metadata": {},
      "source": [
        "Congratulations ! Your custom type is now ready to be used!\n"
      ]
    }
  ],
  "metadata": {
    "kernelspec": {
      "display_name": "pixano",
      "language": "python",
      "name": "python3"
    },
    "language_info": {
      "codemirror_mode": {
        "name": "ipython",
        "version": 3
      },
      "file_extension": ".py",
      "mimetype": "text/x-python",
      "name": "python",
      "nbconvert_exporter": "python",
      "pygments_lexer": "ipython3",
      "version": "3.10.11"
    },
    "orig_nbformat": 4
  },
  "nbformat": 4,
  "nbformat_minor": 2
}
