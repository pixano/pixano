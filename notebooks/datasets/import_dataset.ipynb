{
 "cells": [
  {
   "attachments": {},
   "cell_type": "markdown",
   "metadata": {},
   "source": [
    "# Importing your datasets with Pixano [![Open in Colab](https://colab.research.google.com/assets/colab-badge.svg)](https://colab.research.google.com/github/pixano/pixano/blob/main/notebooks/datasets/import_dataset.ipynb)\n",
    "\n",
    "This notebook will help you import your datasets from various formats to Pixano format.\n",
    "\n",
    "This will allow you to access them with the Pixano Explorer and the Pixano Annotator.\n",
    "\n",
    "## 1. Setting up\n",
    "\n",
    "### Install dependencies\n",
    "\n",
    "This notebook requires installing `pixano`.\n",
    "\n",
    "If you are running this notebook on your computer, we strongly recommend creating a virtual environment for using Pixano like so:\n",
    "\n",
    "```shell\n",
    "conda create -n pixano_env python=3.10\n",
    "conda activate pixano_env\n",
    "```\n",
    "\n",
    "```shell\n",
    "pip install pixano\n",
    "```\n",
    "\n",
    "If you are running this notebook in Google Colab, run the cell below to install `pixano`."
   ]
  },
  {
   "cell_type": "code",
   "execution_count": null,
   "metadata": {},
   "outputs": [],
   "source": [
    "try:\n",
    "    import google.colab\n",
    "\n",
    "    ENV = \"colab\"\n",
    "    !pip install pixano\n",
    "except:\n",
    "    ENV = \"jupyter\""
   ]
  },
  {
   "attachments": {},
   "cell_type": "markdown",
   "metadata": {},
   "source": [
    "### Load dependencies"
   ]
  },
  {
   "cell_type": "code",
   "execution_count": 1,
   "metadata": {},
   "outputs": [],
   "source": [
    "from pathlib import Path\n",
    "\n",
    "from pixano.apps import Explorer\n",
    "from pixano.data import COCOImporter, ImageImporter"
   ]
  },
  {
   "attachments": {},
   "cell_type": "markdown",
   "metadata": {},
   "source": [
    "## 2. Importing a dataset\n",
    "\n",
    "Here, you will define your dataset information (name, description, split...), input information (like source directories for images and annotations) and output information (target directory). Then you will be able to import the dataset.\n",
    "\n",
    "How Pixano handles **annotations**:\n",
    "- Annotations will be **transformed to Pixano format** and stored in a database while **keeping the original files intact**.\n",
    "\n",
    "How Pixano handles **media files**:\n",
    "- By default, **media files will be copied** to the target directory (`copy=True`).\n",
    "- You can also **move the media files** instead of copying them (`copy=False`).\n",
    "\n",
    "### Import from image-only dataset\n",
    "If your dataset contains only images, you can use our predefined ImageImporter to import it to Pixano format.\n",
    "\n",
    "#### Set dataset information"
   ]
  },
  {
   "cell_type": "code",
   "execution_count": 2,
   "metadata": {},
   "outputs": [],
   "source": [
    "# Dataset name and description\n",
    "name = \"My image dataset\"\n",
    "description = \"Image dataset\"\n",
    "\n",
    "# Dataset splits\n",
    "# In the case of ImageImporter, you can set splits to None if your dataset doesn't have any\n",
    "splits = [\"train2017\", \"val2017\"]"
   ]
  },
  {
   "cell_type": "markdown",
   "metadata": {},
   "source": [
    "#### Set dataset input directories"
   ]
  },
  {
   "cell_type": "code",
   "execution_count": 3,
   "metadata": {},
   "outputs": [],
   "source": [
    "# Media and annotation directories for your dataset\n",
    "# If your dataset has splits, media directories must contain subfolders for each one\n",
    "input_dirs = {\n",
    "    \"image\": Path(\"coco/image\"),\n",
    "}"
   ]
  },
  {
   "cell_type": "markdown",
   "metadata": {},
   "source": [
    "#### Set dataset output directories"
   ]
  },
  {
   "cell_type": "code",
   "execution_count": 4,
   "metadata": {},
   "outputs": [],
   "source": [
    "# Directory for your Pixano dataset library\n",
    "library_dir = Path(\"my_datasets/\")\n",
    "\n",
    "# Directory for your imported dataset inside that library\n",
    "import_dir = library_dir / \"coco_instances\""
   ]
  },
  {
   "attachments": {},
   "cell_type": "markdown",
   "metadata": {},
   "source": [
    "#### Import dataset\n",
    "- Use `copy=True` to copy the media files to the Pixano dataset and keep the original files in place\n",
    "- Use `copy=False` to move the media files inside the Pixano dataset"
   ]
  },
  {
   "cell_type": "code",
   "execution_count": null,
   "metadata": {},
   "outputs": [],
   "source": [
    "help(ImageImporter.import_dataset)"
   ]
  },
  {
   "cell_type": "code",
   "execution_count": 6,
   "metadata": {},
   "outputs": [],
   "source": [
    "importer = ImageImporter(name, description, splits)\n",
    "importer.import_dataset(input_dirs, import_dir, copy=True)"
   ]
  },
  {
   "attachments": {},
   "cell_type": "markdown",
   "metadata": {},
   "source": [
    "### Import from COCO format dataset\n",
    "\n",
    "If your dataset contains images and annotations in COCO format, you can use our predefined COCOImporter to import it to Pixano format.\n",
    "\n",
    "#### Set dataset information"
   ]
  },
  {
   "cell_type": "code",
   "execution_count": null,
   "metadata": {},
   "outputs": [],
   "source": [
    "name = \"COCO Instances\"\n",
    "description = \"COCO Instances Dataset\"\n",
    "splits = [\"train2017\", \"val2017\"]"
   ]
  },
  {
   "cell_type": "markdown",
   "metadata": {},
   "source": [
    "#### Set dataset input directories"
   ]
  },
  {
   "cell_type": "code",
   "execution_count": null,
   "metadata": {},
   "outputs": [],
   "source": [
    "# Media and annotation directories for your dataset\n",
    "# Media directories must contain subfolders for each dataset split\n",
    "input_dirs = {\n",
    "    \"image\": Path(\"coco/image\"),\n",
    "    \"objects\": Path(\"coco\"),\n",
    "}"
   ]
  },
  {
   "cell_type": "markdown",
   "metadata": {},
   "source": [
    "#### Set dataset output directories"
   ]
  },
  {
   "cell_type": "code",
   "execution_count": null,
   "metadata": {},
   "outputs": [],
   "source": [
    "# Directory for your Pixano dataset library\n",
    "library_dir = Path(\"my_datasets/\")\n",
    "\n",
    "# Directory for your imported dataset inside that library\n",
    "import_dir = library_dir / \"coco_instances\""
   ]
  },
  {
   "cell_type": "markdown",
   "metadata": {},
   "source": [
    "#### Import dataset\n",
    "- Use `copy=True` to copy the media files to the Pixano dataset and keep the original files in place\n",
    "- Use `copy=False` to move the media files inside the Pixano dataset"
   ]
  },
  {
   "cell_type": "code",
   "execution_count": null,
   "metadata": {},
   "outputs": [],
   "source": [
    "help(COCOImporter.import_dataset)"
   ]
  },
  {
   "cell_type": "code",
   "execution_count": null,
   "metadata": {},
   "outputs": [],
   "source": [
    "importer = COCOImporter(name, description, splits)\n",
    "importer.import_dataset(input_dirs, import_dir, copy=True)"
   ]
  },
  {
   "attachments": {},
   "cell_type": "markdown",
   "metadata": {},
   "source": [
    "### Import from custom format dataset\n",
    "\n",
    "If your dataset contains media or annotations in a custom format, you will have to define your own importer to import it to Pixano format.\n",
    "\n",
    "Please take a look at the `template_importer.py` file next to this notebook for inspiration on how to build your own.\n",
    "\n",
    "Also do not hesitate to reach out to us if you think Pixano could benefit from a importer for your dataset, and we will try to add it in a future version. "
   ]
  },
  {
   "attachments": {},
   "cell_type": "markdown",
   "metadata": {},
   "source": [
    "## 3. Browsing the dataset\n",
    "\n",
    "With the import complete, you can now browse your dataset with the Pixano Explorer.\n",
    "\n",
    "You can stop the Explorer app by restarting the notebook."
   ]
  },
  {
   "cell_type": "code",
   "execution_count": null,
   "metadata": {},
   "outputs": [],
   "source": [
    "explorer = Explorer(library_dir)"
   ]
  },
  {
   "cell_type": "code",
   "execution_count": null,
   "metadata": {},
   "outputs": [],
   "source": [
    "explorer.display()"
   ]
  }
 ],
 "metadata": {
  "kernelspec": {
   "display_name": "Python 3 (ipykernel)",
   "language": "python",
   "name": "python3"
  },
  "language_info": {
   "codemirror_mode": {
    "name": "ipython",
    "version": 3
   },
   "file_extension": ".py",
   "mimetype": "text/x-python",
   "name": "python",
   "nbconvert_exporter": "python",
   "pygments_lexer": "ipython3",
   "version": "3.10.11"
  },
  "vscode": {
   "interpreter": {
    "hash": "c6e4e9f98eb68ad3b7c296f83d20e6de614cb42e90992a65aa266555a3137d0d"
   }
  }
 },
 "nbformat": 4,
 "nbformat_minor": 2
}
