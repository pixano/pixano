{
 "cells": [
  {
   "attachments": {},
   "cell_type": "markdown",
   "metadata": {},
   "source": [
    "# Export your datasets with Pixano [![Open in Colab](https://colab.research.google.com/assets/colab-badge.svg)](https://colab.research.google.com/github/pixano/pixano/blob/main/notebooks/datasets/export_dataset.ipynb)\n",
    "\n",
    "This notebook will help you export your datasets from Pixano format to COCO format.\n",
    "\n",
    "This will allow you to start using the annotations you created within Pixano for training or other applications.\n",
    "\n",
    "## 1. Setting up\n",
    "\n",
    "### Install dependencies\n",
    "\n",
    "This notebook requires installing `pixano`.\n",
    "\n",
    "If you are running this notebook on your computer, we strongly recommend creating a virtual environment for using Pixano like so:\n",
    "\n",
    "```shell\n",
    "conda create -n pixano_env python=3.10\n",
    "conda activate pixano_env\n",
    "```\n",
    "\n",
    "```shell\n",
    "pip install pixano\n",
    "```\n",
    "\n",
    "If you are running this notebook in Google Colab, run the cell below to install `pixano`."
   ]
  },
  {
   "cell_type": "code",
   "execution_count": null,
   "metadata": {},
   "outputs": [],
   "source": [
    "try:\n",
    "    import google.colab\n",
    "\n",
    "    ENV = \"colab\"\n",
    "    %pip install pixano\n",
    "except:\n",
    "    ENV = \"jupyter\""
   ]
  },
  {
   "attachments": {},
   "cell_type": "markdown",
   "metadata": {},
   "source": [
    "### Load dependencies"
   ]
  },
  {
   "cell_type": "code",
   "execution_count": null,
   "metadata": {},
   "outputs": [],
   "source": [
    "from pathlib import Path\n",
    "\n",
    "from pixano.data import COCOExporter"
   ]
  },
  {
   "attachments": {},
   "cell_type": "markdown",
   "metadata": {},
   "source": [
    "## 2. Exporting a dataset\n",
    "\n",
    "Here, you will define your dataset information (name, description, split...), input directory and export directory. Then you will be able to export the dataset.\n",
    "\n",
    "### Export to COCO format dataset\n",
    "\n",
    "#### Set dataset information"
   ]
  },
  {
   "cell_type": "code",
   "execution_count": null,
   "metadata": {},
   "outputs": [],
   "source": [
    "# Dataset information\n",
    "library_dir = Path(\"my_datasets/\")\n",
    "input_dir = library_dir / \"coco_instances\"\n",
    "\n",
    "# Output information\n",
    "export_dir = Path(\"pixano_coco_instances\")"
   ]
  },
  {
   "attachments": {},
   "cell_type": "markdown",
   "metadata": {},
   "source": [
    "#### Export dataset\n",
    "**Media files** will be referred to using **absolute paths**.\n",
    "- Use `copy=True` to copy the media files to the export directory and refer to those.\n",
    "- Use `copy=False` to refer to the media files in the input directory directly.\n",
    "\n",
    "You can also use `splits` and `objects_sources` to specify which parts of your dataset you want to export."
   ]
  },
  {
   "cell_type": "code",
   "execution_count": null,
   "metadata": {},
   "outputs": [],
   "source": [
    "help(COCOExporter.export_dataset)"
   ]
  },
  {
   "cell_type": "code",
   "execution_count": null,
   "metadata": {},
   "outputs": [],
   "source": [
    "exporter = COCOExporter(input_dir)\n",
    "exporter.export_dataset(export_dir, copy=True)"
   ]
  }
 ],
 "metadata": {
  "kernelspec": {
   "display_name": "Python 3 (ipykernel)",
   "language": "python",
   "name": "python3"
  },
  "language_info": {
   "codemirror_mode": {
    "name": "ipython",
    "version": 3
   },
   "file_extension": ".py",
   "mimetype": "text/x-python",
   "name": "python",
   "nbconvert_exporter": "python",
   "pygments_lexer": "ipython3",
   "version": "3.10.11"
  },
  "vscode": {
   "interpreter": {
    "hash": "c6e4e9f98eb68ad3b7c296f83d20e6de614cb42e90992a65aa266555a3137d0d"
   }
  }
 },
 "nbformat": 4,
 "nbformat_minor": 2
}
