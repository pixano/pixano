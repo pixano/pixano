{
  "cells": [
    {
      "attachments": {},
      "cell_type": "markdown",
      "metadata": {},
      "source": [
        "# Semantic search with Pixano [![Open in Colab](https://colab.research.google.com/assets/colab-badge.svg)](https://colab.research.google.com/github/pixano/pixano/blob/main/notebooks/models/semantic_search.ipynb)\n",
        "\n",
        "This notebook allows you to pre-compute semantic search embeddings for a whole Pixano dataset using a deep learning model.\n",
        "\n",
        "You can then search your dataset using that model in the Pixano app.\n",
        "\n",
        "## 1. Setting up\n",
        "\n",
        "### Install dependencies\n",
        "\n",
        "This notebook requires installing `pixano` as well the models from the complementary [`pixano-inference`](https://github.com/pixano/pixano-inference) module.\n",
        "\n",
        "If you are running this notebook on your computer, we strongly recommend creating a virtual environment for using Pixano like so:\n",
        "\n",
        "```shell\n",
        "conda create -n pixano_env python=3.10\n",
        "conda activate pixano_env\n",
        "```\n",
        "\n",
        "```shell\n",
        "pip install pixano\n",
        "pip install pixano-inference@git+https://github.com/pixano/pixano-inference\n",
        "```\n",
        "\n",
        "If you are running this notebook in Google Colab, run the cell below to install `pixano` and `pixano-inference`."
      ]
    },
    {
      "cell_type": "code",
      "execution_count": null,
      "metadata": {},
      "outputs": [],
      "source": [
        "try:\n",
        "    import google.colab\n",
        "\n",
        "    ENV = \"colab\"\n",
        "    %pip install pixano\n",
        "    %pip install pixano-inference@git+https://github.com/pixano/pixano-inference\n",
        "except:\n",
        "    ENV = \"jupyter\""
      ]
    },
    {
      "attachments": {},
      "cell_type": "markdown",
      "metadata": {},
      "source": [
        "### Load dependencies"
      ]
    },
    {
      "cell_type": "code",
      "execution_count": null,
      "metadata": {},
      "outputs": [],
      "source": [
        "from pathlib import Path\n",
        "\n",
        "from pixano_inference import transformers\n",
        "\n",
        "from pixano.app import App"
      ]
    },
    {
      "attachments": {},
      "cell_type": "markdown",
      "metadata": {},
      "source": [
        "## 2. Computing embeddings\n",
        "\n",
        "### Select a model\n",
        "\n",
        "- Loading a model:\n",
        "    - CLIP\n",
        "        - `model = transformers.CLIP()`"
      ]
    },
    {
      "cell_type": "code",
      "execution_count": null,
      "metadata": {},
      "outputs": [],
      "source": [
        "model = transformers.CLIP()"
      ]
    },
    {
      "attachments": {},
      "cell_type": "markdown",
      "metadata": {},
      "source": [
        "### Select a Pixano format dataset\n",
        "\n",
        "If you haven't already, please refer to the [dataset notebooks](../datasets/) for information on how to import your dataset to Pixano format."
      ]
    },
    {
      "cell_type": "code",
      "execution_count": null,
      "metadata": {},
      "outputs": [],
      "source": [
        "library_dir = Path(\"my_datasets/\")\n",
        "dataset_dir = library_dir / \"coco_instances\"\n",
        "\n",
        "views = [\"image\"]\n",
        "splits = []"
      ]
    },
    {
      "attachments": {},
      "cell_type": "markdown",
      "metadata": {},
      "source": [
        "### Compute embeddings"
      ]
    },
    {
      "cell_type": "code",
      "execution_count": null,
      "metadata": {},
      "outputs": [],
      "source": [
        "help(model.process_dataset)"
      ]
    },
    {
      "cell_type": "code",
      "execution_count": null,
      "metadata": {},
      "outputs": [],
      "source": [
        "model.process_dataset(\n",
        "    dataset_dir=dataset_dir,\n",
        "    process_type=\"search_emb\",\n",
        "    views=views,\n",
        "    splits=splits,\n",
        "    batch_size=2,\n",
        ")"
      ]
    },
    {
      "attachments": {},
      "cell_type": "markdown",
      "metadata": {},
      "source": [
        "## 4. Search the dataset\n",
        "\n",
        "With the generation complete, you can now browse your dataset with the Pixano app and use the semantic search bar in the top right in the \"Database\" view.\n",
        "\n",
        "You can stop the app by restarting the notebook."
      ]
    },
    {
      "cell_type": "code",
      "execution_count": null,
      "metadata": {},
      "outputs": [],
      "source": [
        "app = App(library_dir)"
      ]
    },
    {
      "cell_type": "code",
      "execution_count": null,
      "metadata": {},
      "outputs": [],
      "source": [
        "app.display()"
      ]
    }
  ],
  "metadata": {
    "kernelspec": {
      "display_name": "px-next-4",
      "language": "python",
      "name": "python3"
    },
    "language_info": {
      "codemirror_mode": {
        "name": "ipython",
        "version": 3
      },
      "file_extension": ".py",
      "mimetype": "text/x-python",
      "name": "python",
      "nbconvert_exporter": "python",
      "pygments_lexer": "ipython3",
      "version": "3.10.11"
    },
    "orig_nbformat": 4
  },
  "nbformat": 4,
  "nbformat_minor": 2
}
