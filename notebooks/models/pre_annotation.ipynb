{
  "cells": [
    {
      "attachments": {},
      "cell_type": "markdown",
      "metadata": {},
      "source": [
        "# Pre-annotation with Pixano [![Open in Colab](https://colab.research.google.com/assets/colab-badge.svg)](https://colab.research.google.com/github/pixano/pixano/blob/main/notebooks/models/pre_annotation.ipynb)\n",
        "\n",
        "This notebook allows you to preannotate a whole Pixano dataset using a deep learning model.\n",
        "\n",
        "You can then browse the inferences and compare them to ground truths in the Pixano app.\n",
        "\n",
        "## 1. Setting up\n",
        "\n",
        "### Install dependencies\n",
        "\n",
        "This notebook requires installing `pixano` as well the models from the complementary [`pixano-inference`](https://github.com/pixano/pixano-inference) module.\n",
        "\n",
        "If you are running this notebook on your computer, we strongly recommend creating a virtual environment for using Pixano like so:\n",
        "\n",
        "```shell\n",
        "conda create -n pixano_env python=3.10\n",
        "conda activate pixano_env\n",
        "```\n",
        "\n",
        "```shell\n",
        "pip install pixano\n",
        "pip install pixano-inference@git+https://github.com/pixano/pixano-inference\n",
        "```\n",
        "\n",
        "If you are running this notebook in Google Colab, run the cell below to install `pixano` and `pixano-inference`."
      ]
    },
    {
      "cell_type": "code",
      "execution_count": null,
      "metadata": {},
      "outputs": [],
      "source": [
        "try:\n",
        "    import google.colab\n",
        "\n",
        "    ENV = \"colab\"\n",
        "    %pip install pixano\n",
        "    %pip install pixano-inference@git+https://github.com/pixano/pixano-inference\n",
        "except:\n",
        "    ENV = \"jupyter\""
      ]
    },
    {
      "attachments": {},
      "cell_type": "markdown",
      "metadata": {},
      "source": [
        "### Load dependencies"
      ]
    },
    {
      "cell_type": "code",
      "execution_count": null,
      "metadata": {},
      "outputs": [],
      "source": [
        "from pathlib import Path\n",
        "\n",
        "from pixano_inference import pytorch, segment_anything, tensorflow\n",
        "\n",
        "from pixano.app import App"
      ]
    },
    {
      "attachments": {},
      "cell_type": "markdown",
      "metadata": {},
      "source": [
        "### Download checkpoints\n",
        "- Segment Anything Model:\n",
        "    - `default` or `vit_h`: [ViT-H SAM model](https://dl.fbaipublicfiles.com/segment_anything/sam_vit_h_4b8939.pth).\n",
        "    - `vit_l`: [ViT-L SAM model](https://dl.fbaipublicfiles.com/segment_anything/sam_vit_l_0b3195.pth).\n",
        "    - `vit_b`: [ViT-B SAM model](https://dl.fbaipublicfiles.com/segment_anything/sam_vit_b_01ec64.pth).\n",
        "    \n",
        "## 2. Genererating inferences\n",
        "\n",
        "With the Pixano Inference module, we provide some useful models from the PyTorch and TensorFlow model hubs, as well as the Segment Anything Model (SAM) from Meta.\n",
        "\n",
        "You can take a look at how they are implemented to add your own, or reach out to us if you think Pixano Inference could benefit from it, and we will try to add it in a future version. \n",
        "\n",
        "### Select a model\n",
        "- Loading a model:\n",
        "    - Object Detection (COCO labels):\n",
        "        - `model = pytorch.YOLOv5(size=\"m\")`\n",
        "        - `model = tensorflow.FasterRCNN()`\n",
        "        - `model = tensorflow.EfficientDet()`\n",
        "    - Instance Segmentation (COCO labels):\n",
        "        - `model = pytorch.MaskRCNNv2()`\n",
        "\n",
        "    - Semantic Segmentation (VOC labels):\n",
        "        - `model = pytorch.DeepLabV3()`\n",
        "\n",
        "    - Segment Anything Model (No labels):\n",
        "        - `model = segment_anything.SAM(checkpoint_path=Path(\"sam_vit_b_01ec64.pth\"), size=\"b\")`\n",
        "\n",
        "By default, `device` is equal to `\"cuda\"` for PyTorch models and `\"/GPU:0\"` for TensorFlow models.\n",
        "\n",
        "If you would like to run the model on your CPU, please add `device=\"cpu\"` for PyTorch models or `device=\"/CPU:0\"` for TensorFlow models in the arguments in the cell below."
      ]
    },
    {
      "cell_type": "code",
      "execution_count": null,
      "metadata": {},
      "outputs": [],
      "source": [
        "model = pytorch.MaskRCNNv2()"
      ]
    },
    {
      "attachments": {},
      "cell_type": "markdown",
      "metadata": {},
      "source": [
        "### Select a Pixano format dataset\n",
        "\n",
        "If you haven't already, please refer to the [dataset notebooks](../datasets/) for information on how to import your dataset to Pixano format."
      ]
    },
    {
      "cell_type": "code",
      "execution_count": null,
      "metadata": {},
      "outputs": [],
      "source": [
        "library_dir = Path(\"my_datasets/\")\n",
        "dataset_dir = library_dir / \"coco_instances\"\n",
        "\n",
        "views = [\"image\"]\n",
        "splits = []"
      ]
    },
    {
      "attachments": {},
      "cell_type": "markdown",
      "metadata": {},
      "source": [
        "### Generate inferences\n",
        "\n",
        "You have two options when generating inferences.\n",
        "- With `process_type=\"pre_ann\"`, the annotations will show up in the Pixano app as pre-annotations that you can individually accept as Ground Truth or reject.\n",
        "- With `process_type=\"model_run\"`, the annotations will instead be displayed in \"Model run\", a separate category that you can use to visualize the model's predictions and compare them to existing Ground Truth."
      ]
    },
    {
      "cell_type": "code",
      "execution_count": null,
      "metadata": {},
      "outputs": [],
      "source": [
        "help(model.process_dataset)"
      ]
    },
    {
      "cell_type": "code",
      "execution_count": null,
      "metadata": {},
      "outputs": [],
      "source": [
        "dataset = model.process_dataset(\n",
        "    dataset_dir=dataset_dir,\n",
        "    process_type=\"pre_ann\",\n",
        "    views=views,\n",
        "    splits=splits,\n",
        "    batch_size=1,\n",
        "    threshold=0.1,\n",
        ")"
      ]
    },
    {
      "attachments": {},
      "cell_type": "markdown",
      "metadata": {},
      "source": [
        "## 3. Browsing the dataset\n",
        "\n",
        "With the generation complete, you can now browse your dataset with the Pixano app and compare your inferences with ground truths.\n",
        "\n",
        "You can stop the app by restarting the notebook."
      ]
    },
    {
      "cell_type": "code",
      "execution_count": null,
      "metadata": {},
      "outputs": [],
      "source": [
        "app = App(library_dir)"
      ]
    },
    {
      "cell_type": "code",
      "execution_count": null,
      "metadata": {},
      "outputs": [],
      "source": [
        "app.display()"
      ]
    }
  ],
  "metadata": {
    "kernelspec": {
      "display_name": "px-next-4",
      "language": "python",
      "name": "python3"
    },
    "language_info": {
      "codemirror_mode": {
        "name": "ipython",
        "version": 3
      },
      "file_extension": ".py",
      "mimetype": "text/x-python",
      "name": "python",
      "nbconvert_exporter": "python",
      "pygments_lexer": "ipython3",
      "version": "3.10.11"
    },
    "orig_nbformat": 4,
    "vscode": {
      "interpreter": {
        "hash": "f623b0e0a6a406195aec46cc280f4376049e0849fb0bfdc719d0238ed961bcbb"
      }
    }
  },
  "nbformat": 4,
  "nbformat_minor": 2
}
